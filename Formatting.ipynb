{
 "cells": [
  {
   "cell_type": "markdown",
   "metadata": {},
   "source": [
    "<!--Collection of markdown and formatting styles to use in your Jupyter notebook. -->\n",
    "<!--By selecting this cell to be Markdown (cell > Cell Type > Markdown), the text will render as a markdown page.-->\n",
    "\n",
    "# Heading 1\n",
    "## Heading 2\n",
    "### Heading 3\n",
    "#### Heading 4"
   ]
  },
  {
   "cell_type": "markdown",
   "metadata": {},
   "source": [
    "<!--Lists-->\n",
    "\n",
    "Numbered\n",
    "1. Number list 1\n",
    "2. Number list 2 \n",
    "\n",
    "Unordered\n",
    "* This is bullet 1.\n",
    "* This is bullet 2. \n",
    "\n",
    "Nested\n",
    "1. Number list 1\n",
    "2. Number list 2 \n",
    "    1. Nested 1\n",
    "    2. Nested 2\n",
    "        1. Nested 1\n",
    "        2. Nested 2\n",
    "    3. Back to first nested list\n",
    "3. Back to first list"
   ]
  },
  {
   "cell_type": "markdown",
   "metadata": {},
   "source": [
    "*Italicized*\n",
    "\n",
    "**Bold**"
   ]
  },
  {
   "cell_type": "markdown",
   "metadata": {},
   "source": [
    "Code lines\n",
    "`Insert code line`"
   ]
  },
  {
   "cell_type": "markdown",
   "metadata": {},
   "source": [
    "Sections\n",
    "***\n",
    "\n",
    "Making new sections\n",
    "\n",
    "***"
   ]
  },
  {
   "cell_type": "markdown",
   "metadata": {},
   "source": [
    "Line breaks\n",
    "<br>"
   ]
  },
  {
   "cell_type": "markdown",
   "metadata": {},
   "source": [
    "Color font\n",
    "<font color=purple>Purple text</font>"
   ]
  },
  {
   "cell_type": "markdown",
   "metadata": {},
   "source": [
    "Indented code\n",
    "\n",
    "> this is indented text\n",
    "\n",
    "and this is not indented"
   ]
  },
  {
   "cell_type": "markdown",
   "metadata": {},
   "source": [
    "Links\n",
    "[Link name](https://jupyter.org/)"
   ]
  },
  {
   "cell_type": "markdown",
   "metadata": {},
   "source": [
    "Jupyter also have themes! Install the themes by running the following command in a terminal window:\n",
    "`!pip install jupyterthemes`\n"
   ]
  },
  {
   "cell_type": "code",
   "execution_count": 1,
   "metadata": {},
   "outputs": [
    {
     "name": "stdout",
     "output_type": "stream",
     "text": [
      "Available Themes: \r\n",
      "   chesterish\r\n",
      "   grade3\r\n",
      "   gruvboxd\r\n",
      "   gruvboxl\r\n",
      "   monokai\r\n",
      "   oceans16\r\n",
      "   onedork\r\n",
      "   solarizedd\r\n",
      "   solarizedl\r\n"
     ]
    }
   ],
   "source": [
    "!jt -l"
   ]
  },
  {
   "cell_type": "code",
   "execution_count": 5,
   "metadata": {},
   "outputs": [],
   "source": [
    "#Apply the theme by using the following command: Replace onedork with the theme name. \n",
    "#Once you run the cell with the theme name, close the browser and restart the notebook. \n",
    "!jt -t onedork"
   ]
  },
  {
   "cell_type": "code",
   "execution_count": null,
   "metadata": {},
   "outputs": [],
   "source": []
  }
 ],
 "metadata": {
  "kernelspec": {
   "display_name": "Python 3",
   "language": "python",
   "name": "python3"
  },
  "language_info": {
   "codemirror_mode": {
    "name": "ipython",
    "version": 3
   },
   "file_extension": ".py",
   "mimetype": "text/x-python",
   "name": "python",
   "nbconvert_exporter": "python",
   "pygments_lexer": "ipython3",
   "version": "3.8.3"
  }
 },
 "nbformat": 4,
 "nbformat_minor": 4
}
