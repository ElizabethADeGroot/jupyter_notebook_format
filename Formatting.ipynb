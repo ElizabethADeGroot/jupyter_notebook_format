{
 "cells": [
  {
   "cell_type": "markdown",
   "metadata": {},
   "source": [
    "<!--Collection of markdown and formatting styles to use in your Jupyter notebook. -->\n",
    "<!--By selecting this cell to be Markdown (cell > Cell Type > Markdown), the text will render as a markdown page.-->\n",
    "\n",
    "# Heading 1\n",
    "## Heading 2\n",
    "### Heading 3\n",
    "#### Heading 4"
   ]
  },
  {
   "cell_type": "markdown",
   "metadata": {},
   "source": [
    "<!--Bullet list-->\n",
    "* This is bullet 1.\n",
    "* This is bullet 2.\n",
    "* This is bullet 3.   \n",
    "and so on... "
   ]
  },
  {
   "cell_type": "markdown",
   "metadata": {},
   "source": [
    "<!--Numbered list-->\n",
    "1. Number list 1\n",
    "2. Number list 2\n",
    "3. Number list 3"
   ]
  },
  {
   "cell_type": "markdown",
   "metadata": {},
   "source": [
    "*Italicized*\n",
    "\n",
    "**Bold**"
   ]
  },
  {
   "cell_type": "markdown",
   "metadata": {},
   "source": [
    "<!-- Adding code lines -->\n",
    "`Insert code line`"
   ]
  },
  {
   "cell_type": "markdown",
   "metadata": {},
   "source": [
    "<!--Adding sections-->\n",
    "\n",
    "***\n",
    "\n",
    "Making new sections\n",
    "\n",
    "***"
   ]
  }
 ],
 "metadata": {
  "kernelspec": {
   "display_name": "Python 3",
   "language": "python",
   "name": "python3"
  },
  "language_info": {
   "codemirror_mode": {
    "name": "ipython",
    "version": 3
   },
   "file_extension": ".py",
   "mimetype": "text/x-python",
   "name": "python",
   "nbconvert_exporter": "python",
   "pygments_lexer": "ipython3",
   "version": "3.8.3"
  }
 },
 "nbformat": 4,
 "nbformat_minor": 4
}
